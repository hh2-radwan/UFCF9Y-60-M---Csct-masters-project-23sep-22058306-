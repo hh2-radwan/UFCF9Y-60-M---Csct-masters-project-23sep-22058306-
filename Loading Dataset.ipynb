{
 "cells": [
  {
   "cell_type": "markdown",
   "id": "668b665a-4005-4056-a994-363937002609",
   "metadata": {},
   "source": [
    "# Loading Dataset"
   ]
  },
  {
   "cell_type": "code",
   "execution_count": null,
   "id": "7bb6d54b-3c46-4a33-9804-4dd5c36c5d78",
   "metadata": {},
   "outputs": [],
   "source": [
    "import yfinance as yf\n",
    "import pandas as pd"
   ]
  },
  {
   "cell_type": "markdown",
   "id": "4b2a24a3-e1d4-40cf-b204-a19d3ab336a5",
   "metadata": {},
   "source": [
    "## Bitcoin data"
   ]
  },
  {
   "cell_type": "code",
   "execution_count": 28,
   "id": "4a8e7e43-7ea8-4a9c-bfa5-aaedaa501ea8",
   "metadata": {},
   "outputs": [
    {
     "name": "stderr",
     "output_type": "stream",
     "text": [
      "[*********************100%%**********************]  1 of 1 completed"
     ]
    },
    {
     "name": "stdout",
     "output_type": "stream",
     "text": [
      "Btc Data:\n",
      "        Date        Open        High         Low       Close    Volume\n",
      "0 2014-09-17  465.864014  468.174011  452.421997  457.334015  21056800\n",
      "1 2014-09-18  456.859985  456.859985  413.104004  424.440002  34483200\n",
      "2 2014-09-19  424.102997  427.834991  384.532013  394.795990  37919700\n",
      "3 2014-09-20  394.673004  423.295990  389.882996  408.903992  36863600\n",
      "4 2014-09-21  408.084991  412.425995  393.181000  398.821014  26580100\n"
     ]
    },
    {
     "name": "stderr",
     "output_type": "stream",
     "text": [
      "\n"
     ]
    }
   ],
   "source": [
    "# Define the date range\n",
    "start_date = \"2014-09-17\"\n",
    "end_date = \"2024-06-14\"\n",
    "\n",
    "btc_data = yf.download(\"BTC-USD\", start=start_date, end=end_date)\n",
    "\n",
    "# Reset the index to have 'Date' as a column\n",
    "btc_data.reset_index(inplace=True)\n",
    "\n",
    "# Drop the 'Adj Close' column\n",
    "btc_data.drop(columns=['Adj Close'], inplace=True)\n",
    "\n",
    "# Display the first few rows of the data\n",
    "print(\"Btc Data:\")\n",
    "print(btc_data.head())\n",
    "\n",
    "# Save the data to a CSV file\n",
    "btc_data.to_csv(\"btc_data.csv\", index=False)\n"
   ]
  },
  {
   "cell_type": "markdown",
   "id": "5ac64d3a-034d-48d2-b79e-a2cc5e30e043",
   "metadata": {},
   "source": [
    "## Dollar index data"
   ]
  },
  {
   "cell_type": "code",
   "execution_count": 30,
   "id": "885f7352-cdf8-4314-a536-2a9d05a99ed3",
   "metadata": {},
   "outputs": [
    {
     "name": "stdout",
     "output_type": "stream",
     "text": [
      "DXY Data:\n",
      "         Date      Close\n",
      "0  17/09/2014  84.699997\n",
      "1  18/09/2014  84.320000\n",
      "2  19/09/2014  84.800003\n",
      "3  22/09/2014  84.669998\n",
      "4  23/09/2014  84.660004\n"
     ]
    }
   ],
   "source": [
    "# Function to get historical DXY data\n",
    "def get_historical_dxy_data(start_date, end_date):\n",
    "    dxy = yf.Ticker(\"DX-Y.NYB\")\n",
    "    hist = dxy.history(start=start_date, end=end_date)\n",
    "    hist.reset_index(inplace=True)\n",
    "    hist['Date'] = pd.to_datetime(hist['Date']).dt.strftime('%d/%m/%Y')\n",
    "    return hist[['Date', 'Close']]\n",
    "\n",
    "# Fetch historical DXY data\n",
    "dxy_data = get_historical_dxy_data(start_date, end_date)\n",
    "\n",
    "# Display the first few rows of the data\n",
    "print(\"DXY Data:\")\n",
    "print(dxy_data.head())\n",
    "\n",
    "# Save the DXY data to a CSV file\n",
    "dxy_data.to_csv('dxy_data.csv', index=False)\n"
   ]
  },
  {
   "cell_type": "markdown",
   "id": "3405c51b-ef38-4924-a80a-e2361f2a1822",
   "metadata": {},
   "source": [
    "## Gold data"
   ]
  },
  {
   "cell_type": "code",
   "execution_count": 32,
   "id": "cb1e6ba6-a3b3-4af6-aabc-8e1e6e172d13",
   "metadata": {},
   "outputs": [
    {
     "name": "stdout",
     "output_type": "stream",
     "text": [
      "Gold Data:\n",
      "         Date        Close\n",
      "0  17/09/2014  1234.400024\n",
      "1  18/09/2014  1225.699951\n",
      "2  19/09/2014  1215.300049\n",
      "3  22/09/2014  1216.800049\n",
      "4  23/09/2014  1221.000000\n"
     ]
    }
   ],
   "source": [
    "# Function to get historical gold data\n",
    "def get_historical_gold_data(start_date, end_date):\n",
    "    gold = yf.Ticker(\"GC=F\")\n",
    "    hist = gold.history(start=start_date, end=end_date)\n",
    "    hist.reset_index(inplace=True)\n",
    "    hist['Date'] = pd.to_datetime(hist['Date']).dt.strftime('%d/%m/%Y')\n",
    "    return hist[['Date', 'Close']]\n",
    "\n",
    "# Fetch historical gold data\n",
    "gold_data = get_historical_gold_data(start_date, end_date)\n",
    "\n",
    "# Display the first few rows of the data\n",
    "print(\"Gold Data:\")\n",
    "print(gold_data.head())\n",
    "\n",
    "# Save the gold data to a CSV file\n",
    "gold_data.to_csv('gold_data.csv', index=False)"
   ]
  },
  {
   "cell_type": "markdown",
   "id": "42e19c1f-b2d1-40d2-97e4-5e6c8d7251f7",
   "metadata": {},
   "source": [
    "## Crude oil data"
   ]
  },
  {
   "cell_type": "code",
   "execution_count": 34,
   "id": "c72752ee-65ee-4130-992e-c622b20f88d8",
   "metadata": {},
   "outputs": [
    {
     "name": "stdout",
     "output_type": "stream",
     "text": [
      "Crude oil Data:\n",
      "        Date  Crude_Oil_Price\n",
      "0 2014-09-17        94.419998\n",
      "1 2014-09-18        93.070000\n",
      "2 2014-09-19        92.410004\n",
      "3 2014-09-22        91.519997\n",
      "4 2014-09-23        91.559998\n"
     ]
    }
   ],
   "source": [
    "# Function to get historical crude oil price data\n",
    "def get_historical_crude_oil_data(start_date, end_date):\n",
    "    oil = yf.Ticker(\"CL=F\")\n",
    "    hist = oil.history(start=start_date, end=end_date)\n",
    "    return hist\n",
    "\n",
    "# Fetch historical crude oil price data\n",
    "oil_data = get_historical_crude_oil_data(start_date, end_date)\n",
    "\n",
    "# Convert the index to Date column\n",
    "oil_data.reset_index(inplace=True)\n",
    "\n",
    "# Select the Date and Close columns\n",
    "oil_data = oil_data[['Date', 'Close']]\n",
    "oil_data.rename(columns={'Close': 'Crude_Oil_Price'}, inplace=True)\n",
    "\n",
    "# Convert Date column to naive datetime (remove timezone)\n",
    "oil_data['Date'] = oil_data['Date'].dt.tz_convert(None)\n",
    "oil_data['Date'] = pd.to_datetime(oil_data['Date'])\n",
    "oil_data['Date'] = oil_data['Date'].dt.normalize()\n",
    "\n",
    "# Display the first few rows of the data\n",
    "print(\"Crude oil Data:\")\n",
    "print(crude_oil_data.head())\n",
    "\n",
    "# Save the crude oil price data to a new CSV file\n",
    "oil_data.to_csv('crude_oil_data.csv', index=False)"
   ]
  },
  {
   "cell_type": "markdown",
   "id": "22549a65-f5e9-4fa1-ac3e-e5fe4fa3ebdb",
   "metadata": {},
   "source": [
    "## Treasury yield data"
   ]
  },
  {
   "cell_type": "code",
   "execution_count": 36,
   "id": "57aaa225-b7c3-4aea-99f2-a26ce3be110d",
   "metadata": {},
   "outputs": [
    {
     "name": "stdout",
     "output_type": "stream",
     "text": [
      "treasury_yield_data:\n",
      "        Date  Treasury_Yield\n",
      "0 2014-09-17           2.600\n",
      "1 2014-09-18           2.629\n",
      "2 2014-09-19           2.587\n",
      "3 2014-09-22           2.566\n",
      "4 2014-09-23           2.535\n"
     ]
    }
   ],
   "source": [
    "# Function to get historical 10-year US Treasury yield data\n",
    "def get_historical_treasury_yield_data(start_date, end_date):\n",
    "    tnx = yf.Ticker(\"^TNX\")\n",
    "    hist = tnx.history(start=start_date, end=end_date)\n",
    "    return hist\n",
    "\n",
    "# Fetch historical 10-year US Treasury yield data\n",
    "tnx_data = get_historical_treasury_yield_data(start_date, end_date)\n",
    "\n",
    "# Convert the index to Date column\n",
    "tnx_data.reset_index(inplace=True)\n",
    "\n",
    "# Select the Date and Close columns\n",
    "tnx_data = tnx_data[['Date', 'Close']]\n",
    "tnx_data.rename(columns={'Close': 'Treasury_Yield'}, inplace=True)\n",
    "\n",
    "# Convert Date column to naive datetime (remove timezone)\n",
    "tnx_data['Date'] = tnx_data['Date'].dt.tz_convert(None)\n",
    "tnx_data['Date'] = pd.to_datetime(tnx_data['Date'])\n",
    "tnx_data['Date'] = tnx_data['Date'].dt.normalize()\n",
    "\n",
    "# Display the first few rows of the data\n",
    "print(\"treasury_yield_data:\")\n",
    "print(treasury_yield_data.head())\n",
    "\n",
    "# Save the 10-year US Treasury yield data to a new CSV file\n",
    "tnx_data.to_csv('treasury_yield_data.csv', index=False)"
   ]
  },
  {
   "cell_type": "markdown",
   "id": "648ce6eb-4ab3-4a4d-9a15-47186d01dd20",
   "metadata": {},
   "source": [
    "## Sp500 data"
   ]
  },
  {
   "cell_type": "code",
   "execution_count": 38,
   "id": "2d94a41b-472d-4a30-af3b-283d6c0482fb",
   "metadata": {},
   "outputs": [
    {
     "name": "stdout",
     "output_type": "stream",
     "text": [
      "sp500_data:\n",
      "        Date        SP500\n",
      "0 2014-09-17  2001.569946\n",
      "1 2014-09-18  2011.359985\n",
      "2 2014-09-19  2010.400024\n",
      "3 2014-09-22  1994.290039\n",
      "4 2014-09-23  1982.770020\n"
     ]
    }
   ],
   "source": [
    "# Function to get historical S&P 500 index data\n",
    "def get_historical_sp500_data(start_date, end_date):\n",
    "    sp500 = yf.Ticker(\"^GSPC\")\n",
    "    hist = sp500.history(start=start_date, end=end_date)\n",
    "    return hist\n",
    "\n",
    "# Fetch historical S&P 500 index data\n",
    "sp500_data = get_historical_sp500_data(start_date, end_date)\n",
    "\n",
    "# Convert the index to Date column\n",
    "sp500_data.reset_index(inplace=True)\n",
    "\n",
    "# Select the Date and Close columns\n",
    "sp500_data = sp500_data[['Date', 'Close']]\n",
    "sp500_data.rename(columns={'Close': 'SP500'}, inplace=True)\n",
    "\n",
    "# Convert Date column to naive datetime (remove timezone)\n",
    "sp500_data['Date'] = sp500_data['Date'].dt.tz_convert(None)\n",
    "sp500_data['Date'] = pd.to_datetime(sp500_data['Date'])\n",
    "sp500_data['Date'] = sp500_data['Date'].dt.normalize()\n",
    "\n",
    "# Display the first few rows of the data\n",
    "print(\"sp500_data:\")\n",
    "print(sp500_data.head())\n",
    "\n",
    "# Save the S&P 500 index data to a new CSV file\n",
    "sp500_data.to_csv('sp500_data.csv', index=False)"
   ]
  },
  {
   "cell_type": "markdown",
   "id": "3aacc8f2-ae3a-4b43-93e6-57c055617651",
   "metadata": {},
   "source": [
    "## Merged data"
   ]
  },
  {
   "cell_type": "code",
   "execution_count": 41,
   "id": "ba765591-1fbf-4a10-986e-ceeb667b8150",
   "metadata": {},
   "outputs": [
    {
     "name": "stdout",
     "output_type": "stream",
     "text": [
      "Merged Data:\n",
      "        Date        Open        High         Low       Close    Volume  \\\n",
      "0 2014-09-17  465.864014  468.174011  452.421997  457.334015  21056800   \n",
      "1 2014-09-18  456.859985  456.859985  413.104004  424.440002  34483200   \n",
      "2 2014-09-19  424.102997  427.834991  384.532013  394.795990  37919700   \n",
      "3 2014-09-22  399.100006  406.915985  397.130005  402.152008  24127600   \n",
      "4 2014-09-23  402.092010  441.557007  396.196991  435.790985  45099500   \n",
      "\n",
      "   DXY_Close   Gold_Close  Crude_Oil_Price        SP500  Treasury_Yield  \n",
      "0  84.699997  1234.400024        94.419998  2001.569946           2.600  \n",
      "1  84.320000  1225.699951        93.070000  2011.359985           2.629  \n",
      "2  84.800003  1215.300049        92.410004  2010.400024           2.587  \n",
      "3  84.669998  1216.800049        91.519997  1994.290039           2.566  \n",
      "4  84.660004  1221.000000        91.559998  1982.770020           2.535  \n"
     ]
    },
    {
     "name": "stderr",
     "output_type": "stream",
     "text": [
      "C:\\Users\\user\\AppData\\Local\\Temp\\ipykernel_9956\\607283838.py:15: UserWarning: Parsing dates in %d/%m/%Y format when dayfirst=False (the default) was specified. Pass `dayfirst=True` or specify a format to silence this warning.\n",
      "  dxy_data['Date'] = pd.to_datetime(dxy_data['Date'])\n",
      "C:\\Users\\user\\AppData\\Local\\Temp\\ipykernel_9956\\607283838.py:16: UserWarning: Parsing dates in %d/%m/%Y format when dayfirst=False (the default) was specified. Pass `dayfirst=True` or specify a format to silence this warning.\n",
      "  gold_data['Date'] = pd.to_datetime(gold_data['Date'])\n"
     ]
    }
   ],
   "source": [
    "# Load the data files\n",
    "btc_data = pd.read_csv('btc_data.csv')\n",
    "dxy_data = pd.read_csv('dxy_data.csv')\n",
    "gold_data = pd.read_csv('gold_data.csv')\n",
    "crude_oil_data = pd.read_csv('crude_oil_data.csv')\n",
    "sp500_data = pd.read_csv('sp500_data.csv')\n",
    "treasury_yield_data = pd.read_csv('treasury_yield_data.csv')\n",
    "\n",
    "# Rename the 'Close' column in dxy_data to something more descriptive\n",
    "dxy_data.rename(columns={'Close': 'DXY_Close'}, inplace=True)\n",
    "gold_data.rename(columns={'Close': 'Gold_Close'}, inplace=True)\n",
    "\n",
    "# Convert Date columns to datetime format if needed\n",
    "btc_data['Date'] = pd.to_datetime(btc_data['Date'])\n",
    "dxy_data['Date'] = pd.to_datetime(dxy_data['Date'])\n",
    "gold_data['Date'] = pd.to_datetime(gold_data['Date'])\n",
    "crude_oil_data['Date'] = pd.to_datetime(crude_oil_data['Date'])\n",
    "sp500_data['Date'] = pd.to_datetime(sp500_data['Date'])\n",
    "treasury_yield_data['Date'] = pd.to_datetime(treasury_yield_data['Date'])\n",
    "\n",
    "\n",
    "# Merge the data on the Date column\n",
    "merged_data = pd.merge(btc_data, dxy_data, on='Date', how='inner')\n",
    "merged_data = pd.merge(merged_data, gold_data, on='Date', how='inner')\n",
    "merged_data = pd.merge(merged_data, crude_oil_data, on='Date', how='inner')\n",
    "merged_data = pd.merge(merged_data, sp500_data, on='Date', how='inner')\n",
    "merged_data = pd.merge(merged_data, treasury_yield_data, on='Date', how='inner')\n",
    "\n",
    "merged_data['Date'] = pd.to_datetime(merged_data['Date'])\n",
    "\n",
    "\n",
    "# Display the first few rows of the merged data\n",
    "print(\"Merged Data:\")\n",
    "print(merged_data.head())\n",
    "\n",
    "# Save the merged data to a new CSV file\n",
    "merged_data.to_csv('merged_data.csv', index=False)"
   ]
  }
 ],
 "metadata": {
  "kernelspec": {
   "display_name": "Python 3 (ipykernel)",
   "language": "python",
   "name": "python3"
  },
  "language_info": {
   "codemirror_mode": {
    "name": "ipython",
    "version": 3
   },
   "file_extension": ".py",
   "mimetype": "text/x-python",
   "name": "python",
   "nbconvert_exporter": "python",
   "pygments_lexer": "ipython3",
   "version": "3.11.7"
  }
 },
 "nbformat": 4,
 "nbformat_minor": 5
}
